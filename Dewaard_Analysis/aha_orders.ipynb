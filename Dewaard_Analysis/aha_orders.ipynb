{
 "cells": [
  {
   "cell_type": "code",
   "execution_count": 1,
   "id": "434aedb4",
   "metadata": {},
   "outputs": [],
   "source": [
    "import pandas as pd\n",
    "import matplotlib.pyplot as plt\n",
    "import numpy as np\n",
    "from scipy import stats\n",
    "import gmaps\n",
    "import requests\n",
    "import matplotlib.pyplot as plt\n",
    "import statistics\n",
    "import numpy as np\n",
    "from matplotlib.ticker import MultipleLocator"
   ]
  },
  {
   "cell_type": "code",
   "execution_count": 2,
   "id": "e2336eb6",
   "metadata": {},
   "outputs": [
    {
     "name": "stderr",
     "output_type": "stream",
     "text": [
      "/Users/joshdaniels/opt/anaconda3/envs/PythonData/lib/python3.7/site-packages/IPython/core/interactiveshell.py:3166: DtypeWarning: Columns (7,8,18,23) have mixed types.Specify dtype option on import or set low_memory=False.\n",
      "  interactivity=interactivity, compiler=compiler, result=result)\n"
     ]
    },
    {
     "data": {
      "text/plain": [
       "Index(['Order ID', 'Order Date', 'Ordered By', 'Ship to Name',\n",
       "       'Ship to Address', 'Ship to City', 'Ship to State', 'Ship to Zip Code',\n",
       "       'Ship to Phone', 'Ship to Email', 'Order Status', 'Order Total',\n",
       "       'Payment Type', 'Shipped', 'Product Details', 'Product SKU',\n",
       "       'Product Qty', 'Product Price', 'Phone', 'Email', 'Address', 'City',\n",
       "       'State', 'Zip', 'Country'],\n",
       "      dtype='object')"
      ]
     },
     "execution_count": 2,
     "metadata": {},
     "output_type": "execute_result"
    }
   ],
   "source": [
    "order_data_df = pd.read_csv(\"aha_orders.csv\")\n",
    "order_data_df.columns\n"
   ]
  },
  {
   "cell_type": "code",
   "execution_count": 3,
   "id": "f56542a6",
   "metadata": {},
   "outputs": [
    {
     "data": {
      "text/plain": [
       "0        LG Appliances 26 cu. ft. Bottom Freezer Refrig...\n",
       "1        5 Years Extended Warranty for LG Appliances LR...\n",
       "2        Haul Away & Recycling of Old Appliance for LG ...\n",
       "3        Frigidaire  7.0 Cu. Ft. Chest Freezer (FFCS072...\n",
       "4        Whirlpool 7.0 cu. ft. Top Load Electric Dryer ...\n",
       "                               ...                        \n",
       "67711                 Amana  NGD4700YQ 7.0 Cu Ft Gas Dryer\n",
       "67712    Dacor EPICURE&trade; EF36BNNFSS 36\" French Doo...\n",
       "67713               Electrolux  EI15TC65HS Trash Compactor\n",
       "67714    Frigidaire  FFHS2622MS 26' Dispenser Refrigerator\n",
       "67715    Fisher & Paykel DISHDRAWER&reg; DD24DCHTX7 Dou...\n",
       "Name: Product Details, Length: 67716, dtype: object"
      ]
     },
     "execution_count": 3,
     "metadata": {},
     "output_type": "execute_result"
    }
   ],
   "source": [
    "order_data_df[\"Product Details\"]"
   ]
  },
  {
   "cell_type": "code",
   "execution_count": 4,
   "id": "ae37f528",
   "metadata": {},
   "outputs": [
    {
     "data": {
      "text/html": [
       "<div>\n",
       "<style scoped>\n",
       "    .dataframe tbody tr th:only-of-type {\n",
       "        vertical-align: middle;\n",
       "    }\n",
       "\n",
       "    .dataframe tbody tr th {\n",
       "        vertical-align: top;\n",
       "    }\n",
       "\n",
       "    .dataframe thead th {\n",
       "        text-align: right;\n",
       "    }\n",
       "</style>\n",
       "<table border=\"1\" class=\"dataframe\">\n",
       "  <thead>\n",
       "    <tr style=\"text-align: right;\">\n",
       "      <th></th>\n",
       "      <th>Order ID</th>\n",
       "      <th>Order Date</th>\n",
       "      <th>Ordered By</th>\n",
       "      <th>Ship to Name</th>\n",
       "      <th>Ship to Address</th>\n",
       "      <th>Ship to City</th>\n",
       "      <th>Ship to State</th>\n",
       "      <th>Ship to Zip Code</th>\n",
       "      <th>Ship to Phone</th>\n",
       "      <th>Ship to Email</th>\n",
       "      <th>...</th>\n",
       "      <th>Product SKU</th>\n",
       "      <th>Product Qty</th>\n",
       "      <th>Product Price</th>\n",
       "      <th>Phone</th>\n",
       "      <th>Email</th>\n",
       "      <th>Address</th>\n",
       "      <th>City</th>\n",
       "      <th>State</th>\n",
       "      <th>Zip</th>\n",
       "      <th>Country</th>\n",
       "    </tr>\n",
       "  </thead>\n",
       "  <tbody>\n",
       "    <tr>\n",
       "      <th>0</th>\n",
       "      <td>35874</td>\n",
       "      <td>Oct 28th, 2021</td>\n",
       "      <td>Bryan Holbrook</td>\n",
       "      <td>Bryan Holbrook</td>\n",
       "      <td>470 Prospect Ave</td>\n",
       "      <td>Felton</td>\n",
       "      <td>CA</td>\n",
       "      <td>95018.0</td>\n",
       "      <td>9258999451.0</td>\n",
       "      <td>bryholbrook@gmail.com</td>\n",
       "      <td>...</td>\n",
       "      <td>LRDCS2603S</td>\n",
       "      <td>1.0</td>\n",
       "      <td>$1439.79</td>\n",
       "      <td>9258999451</td>\n",
       "      <td>bryholbrook@gmail.com</td>\n",
       "      <td>470 Prospect Ave</td>\n",
       "      <td>Felton</td>\n",
       "      <td>CA</td>\n",
       "      <td>95018</td>\n",
       "      <td>US</td>\n",
       "    </tr>\n",
       "    <tr>\n",
       "      <th>1</th>\n",
       "      <td>35874</td>\n",
       "      <td>Oct 28th, 2021</td>\n",
       "      <td>Bryan Holbrook</td>\n",
       "      <td>Bryan Holbrook</td>\n",
       "      <td>470 Prospect Ave</td>\n",
       "      <td>Felton</td>\n",
       "      <td>CA</td>\n",
       "      <td>95018.0</td>\n",
       "      <td>9258999451.0</td>\n",
       "      <td>bryholbrook@gmail.com</td>\n",
       "      <td>...</td>\n",
       "      <td>ESP-R</td>\n",
       "      <td>1.0</td>\n",
       "      <td>$239.99</td>\n",
       "      <td>9258999451</td>\n",
       "      <td>bryholbrook@gmail.com</td>\n",
       "      <td>470 Prospect Ave</td>\n",
       "      <td>Felton</td>\n",
       "      <td>CA</td>\n",
       "      <td>95018</td>\n",
       "      <td>US</td>\n",
       "    </tr>\n",
       "    <tr>\n",
       "      <th>2</th>\n",
       "      <td>35874</td>\n",
       "      <td>Oct 28th, 2021</td>\n",
       "      <td>Bryan Holbrook</td>\n",
       "      <td>Bryan Holbrook</td>\n",
       "      <td>470 Prospect Ave</td>\n",
       "      <td>Felton</td>\n",
       "      <td>CA</td>\n",
       "      <td>95018.0</td>\n",
       "      <td>9258999451.0</td>\n",
       "      <td>bryholbrook@gmail.com</td>\n",
       "      <td>...</td>\n",
       "      <td>HAULAWAY-MOVE</td>\n",
       "      <td>1.0</td>\n",
       "      <td>$24.95</td>\n",
       "      <td>9258999451</td>\n",
       "      <td>bryholbrook@gmail.com</td>\n",
       "      <td>470 Prospect Ave</td>\n",
       "      <td>Felton</td>\n",
       "      <td>CA</td>\n",
       "      <td>95018</td>\n",
       "      <td>US</td>\n",
       "    </tr>\n",
       "    <tr>\n",
       "      <th>3</th>\n",
       "      <td>35873</td>\n",
       "      <td>Oct 28th, 2021</td>\n",
       "      <td>Paul Huber</td>\n",
       "      <td>Micah Garside-White</td>\n",
       "      <td>3460 Newport Common</td>\n",
       "      <td>Fremont</td>\n",
       "      <td>CA</td>\n",
       "      <td>94538.0</td>\n",
       "      <td>8055587614.0</td>\n",
       "      <td>Micah.garsidewhite@gmail.com</td>\n",
       "      <td>...</td>\n",
       "      <td>FFCS0722AW</td>\n",
       "      <td>1.0</td>\n",
       "      <td>$259.78</td>\n",
       "      <td>4155776726</td>\n",
       "      <td>Paul.huber@compass.com</td>\n",
       "      <td>59 Twin Peaks Blvd</td>\n",
       "      <td>San Francisco</td>\n",
       "      <td>CA</td>\n",
       "      <td>94114</td>\n",
       "      <td>US</td>\n",
       "    </tr>\n",
       "    <tr>\n",
       "      <th>4</th>\n",
       "      <td>35872</td>\n",
       "      <td>Oct 28th, 2021</td>\n",
       "      <td>bill martyn</td>\n",
       "      <td>bill martyn</td>\n",
       "      <td>742 shoemaker dr</td>\n",
       "      <td>livermore</td>\n",
       "      <td>CA</td>\n",
       "      <td>94551.0</td>\n",
       "      <td>9253518645.0</td>\n",
       "      <td>bartyn@comcast.net</td>\n",
       "      <td>...</td>\n",
       "      <td>WED4950HW</td>\n",
       "      <td>1.0</td>\n",
       "      <td>$539.78</td>\n",
       "      <td>9253518645</td>\n",
       "      <td>bartyn@comcast.net</td>\n",
       "      <td>742 shoemaker dr</td>\n",
       "      <td>livermore</td>\n",
       "      <td>CA</td>\n",
       "      <td>94551</td>\n",
       "      <td>US</td>\n",
       "    </tr>\n",
       "    <tr>\n",
       "      <th>...</th>\n",
       "      <td>...</td>\n",
       "      <td>...</td>\n",
       "      <td>...</td>\n",
       "      <td>...</td>\n",
       "      <td>...</td>\n",
       "      <td>...</td>\n",
       "      <td>...</td>\n",
       "      <td>...</td>\n",
       "      <td>...</td>\n",
       "      <td>...</td>\n",
       "      <td>...</td>\n",
       "      <td>...</td>\n",
       "      <td>...</td>\n",
       "      <td>...</td>\n",
       "      <td>...</td>\n",
       "      <td>...</td>\n",
       "      <td>...</td>\n",
       "      <td>...</td>\n",
       "      <td>...</td>\n",
       "      <td>...</td>\n",
       "      <td>...</td>\n",
       "    </tr>\n",
       "    <tr>\n",
       "      <th>67711</th>\n",
       "      <td>3</td>\n",
       "      <td>Apr 19th, 2013</td>\n",
       "      <td>Jennifer Danko</td>\n",
       "      <td></td>\n",
       "      <td></td>\n",
       "      <td>0</td>\n",
       "      <td>0</td>\n",
       "      <td>0</td>\n",
       "      <td>0</td>\n",
       "      <td>0</td>\n",
       "      <td>...</td>\n",
       "      <td>NGD4700YQ</td>\n",
       "      <td>1.0</td>\n",
       "      <td>$476.99</td>\n",
       "      <td>(877) 449-1069</td>\n",
       "      <td>jennifer@siteontime.com</td>\n",
       "      <td>621 Washington St A4</td>\n",
       "      <td>Gainesville</td>\n",
       "      <td>GA</td>\n",
       "      <td>30501</td>\n",
       "      <td>US</td>\n",
       "    </tr>\n",
       "    <tr>\n",
       "      <th>67712</th>\n",
       "      <td>3</td>\n",
       "      <td>Apr 19th, 2013</td>\n",
       "      <td>Jennifer Danko</td>\n",
       "      <td></td>\n",
       "      <td></td>\n",
       "      <td>0</td>\n",
       "      <td>0</td>\n",
       "      <td>0</td>\n",
       "      <td>0</td>\n",
       "      <td>0</td>\n",
       "      <td>...</td>\n",
       "      <td>EF36BNNFSS</td>\n",
       "      <td>1.0</td>\n",
       "      <td>$0.00</td>\n",
       "      <td>(877) 449-1069</td>\n",
       "      <td>jennifer@siteontime.com</td>\n",
       "      <td>621 Washington St A4</td>\n",
       "      <td>Gainesville</td>\n",
       "      <td>GA</td>\n",
       "      <td>30501</td>\n",
       "      <td>US</td>\n",
       "    </tr>\n",
       "    <tr>\n",
       "      <th>67713</th>\n",
       "      <td>2</td>\n",
       "      <td>Apr 19th, 2013</td>\n",
       "      <td>Jennifer Danko</td>\n",
       "      <td></td>\n",
       "      <td></td>\n",
       "      <td>0</td>\n",
       "      <td>0</td>\n",
       "      <td>0</td>\n",
       "      <td>0</td>\n",
       "      <td>0</td>\n",
       "      <td>...</td>\n",
       "      <td>EI15TC65HS</td>\n",
       "      <td>1.0</td>\n",
       "      <td>$989.10</td>\n",
       "      <td>(877) 449-1069</td>\n",
       "      <td>jennifer@siteontime.com</td>\n",
       "      <td>621 Washington St A4</td>\n",
       "      <td>Gainesville</td>\n",
       "      <td>GA</td>\n",
       "      <td>30501</td>\n",
       "      <td>US</td>\n",
       "    </tr>\n",
       "    <tr>\n",
       "      <th>67714</th>\n",
       "      <td>1</td>\n",
       "      <td>Apr 19th, 2013</td>\n",
       "      <td>Jennifer Danko</td>\n",
       "      <td></td>\n",
       "      <td></td>\n",
       "      <td>0</td>\n",
       "      <td>0</td>\n",
       "      <td>0</td>\n",
       "      <td>0</td>\n",
       "      <td>0</td>\n",
       "      <td>...</td>\n",
       "      <td>FFHS2622MS</td>\n",
       "      <td>1.0</td>\n",
       "      <td>$1199.00</td>\n",
       "      <td>(877) 449-1069</td>\n",
       "      <td>support@siteontime.com</td>\n",
       "      <td>308 Parthenia Dr</td>\n",
       "      <td>Demorest</td>\n",
       "      <td>GA</td>\n",
       "      <td>30535</td>\n",
       "      <td>US</td>\n",
       "    </tr>\n",
       "    <tr>\n",
       "      <th>67715</th>\n",
       "      <td>1</td>\n",
       "      <td>Apr 19th, 2013</td>\n",
       "      <td>Jennifer Danko</td>\n",
       "      <td></td>\n",
       "      <td></td>\n",
       "      <td>0</td>\n",
       "      <td>0</td>\n",
       "      <td>0</td>\n",
       "      <td>0</td>\n",
       "      <td>0</td>\n",
       "      <td>...</td>\n",
       "      <td>DD24DCHTX7</td>\n",
       "      <td>1.0</td>\n",
       "      <td>$1399.00</td>\n",
       "      <td>(877) 449-1069</td>\n",
       "      <td>support@siteontime.com</td>\n",
       "      <td>308 Parthenia Dr</td>\n",
       "      <td>Demorest</td>\n",
       "      <td>GA</td>\n",
       "      <td>30535</td>\n",
       "      <td>US</td>\n",
       "    </tr>\n",
       "  </tbody>\n",
       "</table>\n",
       "<p>67716 rows × 25 columns</p>\n",
       "</div>"
      ],
      "text/plain": [
       "       Order ID      Order Date      Ordered By         Ship to Name  \\\n",
       "0         35874  Oct 28th, 2021  Bryan Holbrook       Bryan Holbrook   \n",
       "1         35874  Oct 28th, 2021  Bryan Holbrook       Bryan Holbrook   \n",
       "2         35874  Oct 28th, 2021  Bryan Holbrook       Bryan Holbrook   \n",
       "3         35873  Oct 28th, 2021      Paul Huber  Micah Garside-White   \n",
       "4         35872  Oct 28th, 2021     bill martyn          bill martyn   \n",
       "...         ...             ...             ...                  ...   \n",
       "67711         3  Apr 19th, 2013  Jennifer Danko                        \n",
       "67712         3  Apr 19th, 2013  Jennifer Danko                        \n",
       "67713         2  Apr 19th, 2013  Jennifer Danko                        \n",
       "67714         1  Apr 19th, 2013  Jennifer Danko                        \n",
       "67715         1  Apr 19th, 2013  Jennifer Danko                        \n",
       "\n",
       "            Ship to Address Ship to City Ship to State Ship to Zip Code  \\\n",
       "0         470 Prospect Ave        Felton            CA          95018.0   \n",
       "1         470 Prospect Ave        Felton            CA          95018.0   \n",
       "2         470 Prospect Ave        Felton            CA          95018.0   \n",
       "3      3460 Newport Common       Fremont            CA          94538.0   \n",
       "4         742 shoemaker dr     livermore            CA          94551.0   \n",
       "...                     ...          ...           ...              ...   \n",
       "67711                                  0             0                0   \n",
       "67712                                  0             0                0   \n",
       "67713                                  0             0                0   \n",
       "67714                                  0             0                0   \n",
       "67715                                  0             0                0   \n",
       "\n",
       "      Ship to Phone                 Ship to Email  ...    Product SKU  \\\n",
       "0      9258999451.0         bryholbrook@gmail.com  ...     LRDCS2603S   \n",
       "1      9258999451.0         bryholbrook@gmail.com  ...          ESP-R   \n",
       "2      9258999451.0         bryholbrook@gmail.com  ...  HAULAWAY-MOVE   \n",
       "3      8055587614.0  Micah.garsidewhite@gmail.com  ...     FFCS0722AW   \n",
       "4      9253518645.0            bartyn@comcast.net  ...      WED4950HW   \n",
       "...             ...                           ...  ...            ...   \n",
       "67711             0                             0  ...      NGD4700YQ   \n",
       "67712             0                             0  ...     EF36BNNFSS   \n",
       "67713             0                             0  ...     EI15TC65HS   \n",
       "67714             0                             0  ...     FFHS2622MS   \n",
       "67715             0                             0  ...     DD24DCHTX7   \n",
       "\n",
       "      Product Qty Product Price           Phone                    Email  \\\n",
       "0             1.0      $1439.79      9258999451    bryholbrook@gmail.com   \n",
       "1             1.0       $239.99      9258999451    bryholbrook@gmail.com   \n",
       "2             1.0        $24.95      9258999451    bryholbrook@gmail.com   \n",
       "3             1.0       $259.78      4155776726   Paul.huber@compass.com   \n",
       "4             1.0       $539.78      9253518645       bartyn@comcast.net   \n",
       "...           ...           ...             ...                      ...   \n",
       "67711         1.0       $476.99  (877) 449-1069  jennifer@siteontime.com   \n",
       "67712         1.0         $0.00  (877) 449-1069  jennifer@siteontime.com   \n",
       "67713         1.0       $989.10  (877) 449-1069  jennifer@siteontime.com   \n",
       "67714         1.0      $1199.00  (877) 449-1069   support@siteontime.com   \n",
       "67715         1.0      $1399.00  (877) 449-1069   support@siteontime.com   \n",
       "\n",
       "                    Address           City State    Zip Country  \n",
       "0          470 Prospect Ave         Felton    CA  95018      US  \n",
       "1          470 Prospect Ave         Felton    CA  95018      US  \n",
       "2          470 Prospect Ave         Felton    CA  95018      US  \n",
       "3        59 Twin Peaks Blvd  San Francisco    CA  94114      US  \n",
       "4          742 shoemaker dr      livermore    CA  94551      US  \n",
       "...                     ...            ...   ...    ...     ...  \n",
       "67711  621 Washington St A4    Gainesville    GA  30501      US  \n",
       "67712  621 Washington St A4    Gainesville    GA  30501      US  \n",
       "67713  621 Washington St A4    Gainesville    GA  30501      US  \n",
       "67714      308 Parthenia Dr       Demorest    GA  30535      US  \n",
       "67715      308 Parthenia Dr       Demorest    GA  30535      US  \n",
       "\n",
       "[67716 rows x 25 columns]"
      ]
     },
     "execution_count": 4,
     "metadata": {},
     "output_type": "execute_result"
    }
   ],
   "source": [
    "order_data_df = order_data_df.fillna(0)\n",
    "order_data_df"
   ]
  },
  {
   "cell_type": "code",
   "execution_count": 6,
   "id": "9316b314",
   "metadata": {},
   "outputs": [
    {
     "ename": "ValueError",
     "evalue": "Cannot mask with non-boolean array containing NA / NaN values",
     "output_type": "error",
     "traceback": [
      "\u001b[0;31m---------------------------------------------------------------------------\u001b[0m",
      "\u001b[0;31mValueError\u001b[0m                                Traceback (most recent call last)",
      "\u001b[0;32m<ipython-input-6-e1d3cd1deef9>\u001b[0m in \u001b[0;36m<module>\u001b[0;34m\u001b[0m\n\u001b[0;32m----> 1\u001b[0;31m \u001b[0moutlet_orders\u001b[0m \u001b[0;34m=\u001b[0m \u001b[0morder_data_df\u001b[0m\u001b[0;34m.\u001b[0m\u001b[0mloc\u001b[0m\u001b[0;34m[\u001b[0m\u001b[0morder_data_df\u001b[0m\u001b[0;34m[\u001b[0m\u001b[0;34m'Product Details'\u001b[0m\u001b[0;34m]\u001b[0m\u001b[0;34m.\u001b[0m\u001b[0mstr\u001b[0m\u001b[0;34m.\u001b[0m\u001b[0mcontains\u001b[0m\u001b[0;34m(\u001b[0m\u001b[0;34m\"OUTLET\"\u001b[0m\u001b[0;34m,\u001b[0m \u001b[0mcase\u001b[0m\u001b[0;34m=\u001b[0m\u001b[0;32mFalse\u001b[0m\u001b[0;34m)\u001b[0m\u001b[0;34m]\u001b[0m\u001b[0;34m\u001b[0m\u001b[0;34m\u001b[0m\u001b[0m\n\u001b[0m\u001b[1;32m      2\u001b[0m \u001b[0moutlet_orders\u001b[0m\u001b[0;34m.\u001b[0m\u001b[0mhead\u001b[0m\u001b[0;34m(\u001b[0m\u001b[0;36m207\u001b[0m\u001b[0;34m)\u001b[0m\u001b[0;34m\u001b[0m\u001b[0;34m\u001b[0m\u001b[0m\n",
      "\u001b[0;32m~/opt/anaconda3/envs/PythonData/lib/python3.7/site-packages/pandas/core/indexing.py\u001b[0m in \u001b[0;36m__getitem__\u001b[0;34m(self, key)\u001b[0m\n\u001b[1;32m    893\u001b[0m \u001b[0;34m\u001b[0m\u001b[0m\n\u001b[1;32m    894\u001b[0m             \u001b[0mmaybe_callable\u001b[0m \u001b[0;34m=\u001b[0m \u001b[0mcom\u001b[0m\u001b[0;34m.\u001b[0m\u001b[0mapply_if_callable\u001b[0m\u001b[0;34m(\u001b[0m\u001b[0mkey\u001b[0m\u001b[0;34m,\u001b[0m \u001b[0mself\u001b[0m\u001b[0;34m.\u001b[0m\u001b[0mobj\u001b[0m\u001b[0;34m)\u001b[0m\u001b[0;34m\u001b[0m\u001b[0;34m\u001b[0m\u001b[0m\n\u001b[0;32m--> 895\u001b[0;31m             \u001b[0;32mreturn\u001b[0m \u001b[0mself\u001b[0m\u001b[0;34m.\u001b[0m\u001b[0m_getitem_axis\u001b[0m\u001b[0;34m(\u001b[0m\u001b[0mmaybe_callable\u001b[0m\u001b[0;34m,\u001b[0m \u001b[0maxis\u001b[0m\u001b[0;34m=\u001b[0m\u001b[0maxis\u001b[0m\u001b[0;34m)\u001b[0m\u001b[0;34m\u001b[0m\u001b[0;34m\u001b[0m\u001b[0m\n\u001b[0m\u001b[1;32m    896\u001b[0m \u001b[0;34m\u001b[0m\u001b[0m\n\u001b[1;32m    897\u001b[0m     \u001b[0;32mdef\u001b[0m \u001b[0m_is_scalar_access\u001b[0m\u001b[0;34m(\u001b[0m\u001b[0mself\u001b[0m\u001b[0;34m,\u001b[0m \u001b[0mkey\u001b[0m\u001b[0;34m:\u001b[0m \u001b[0mTuple\u001b[0m\u001b[0;34m)\u001b[0m\u001b[0;34m:\u001b[0m\u001b[0;34m\u001b[0m\u001b[0;34m\u001b[0m\u001b[0m\n",
      "\u001b[0;32m~/opt/anaconda3/envs/PythonData/lib/python3.7/site-packages/pandas/core/indexing.py\u001b[0m in \u001b[0;36m_getitem_axis\u001b[0;34m(self, key, axis)\u001b[0m\n\u001b[1;32m   1101\u001b[0m             \u001b[0mself\u001b[0m\u001b[0;34m.\u001b[0m\u001b[0m_validate_key\u001b[0m\u001b[0;34m(\u001b[0m\u001b[0mkey\u001b[0m\u001b[0;34m,\u001b[0m \u001b[0maxis\u001b[0m\u001b[0;34m)\u001b[0m\u001b[0;34m\u001b[0m\u001b[0;34m\u001b[0m\u001b[0m\n\u001b[1;32m   1102\u001b[0m             \u001b[0;32mreturn\u001b[0m \u001b[0mself\u001b[0m\u001b[0;34m.\u001b[0m\u001b[0m_get_slice_axis\u001b[0m\u001b[0;34m(\u001b[0m\u001b[0mkey\u001b[0m\u001b[0;34m,\u001b[0m \u001b[0maxis\u001b[0m\u001b[0;34m=\u001b[0m\u001b[0maxis\u001b[0m\u001b[0;34m)\u001b[0m\u001b[0;34m\u001b[0m\u001b[0;34m\u001b[0m\u001b[0m\n\u001b[0;32m-> 1103\u001b[0;31m         \u001b[0;32melif\u001b[0m \u001b[0mcom\u001b[0m\u001b[0;34m.\u001b[0m\u001b[0mis_bool_indexer\u001b[0m\u001b[0;34m(\u001b[0m\u001b[0mkey\u001b[0m\u001b[0;34m)\u001b[0m\u001b[0;34m:\u001b[0m\u001b[0;34m\u001b[0m\u001b[0;34m\u001b[0m\u001b[0m\n\u001b[0m\u001b[1;32m   1104\u001b[0m             \u001b[0;32mreturn\u001b[0m \u001b[0mself\u001b[0m\u001b[0;34m.\u001b[0m\u001b[0m_getbool_axis\u001b[0m\u001b[0;34m(\u001b[0m\u001b[0mkey\u001b[0m\u001b[0;34m,\u001b[0m \u001b[0maxis\u001b[0m\u001b[0;34m=\u001b[0m\u001b[0maxis\u001b[0m\u001b[0;34m)\u001b[0m\u001b[0;34m\u001b[0m\u001b[0;34m\u001b[0m\u001b[0m\n\u001b[1;32m   1105\u001b[0m         \u001b[0;32melif\u001b[0m \u001b[0mis_list_like_indexer\u001b[0m\u001b[0;34m(\u001b[0m\u001b[0mkey\u001b[0m\u001b[0;34m)\u001b[0m\u001b[0;34m:\u001b[0m\u001b[0;34m\u001b[0m\u001b[0;34m\u001b[0m\u001b[0m\n",
      "\u001b[0;32m~/opt/anaconda3/envs/PythonData/lib/python3.7/site-packages/pandas/core/common.py\u001b[0m in \u001b[0;36mis_bool_indexer\u001b[0;34m(key)\u001b[0m\n\u001b[1;32m    112\u001b[0m                     \u001b[0;31m# Don't raise on e.g. [\"A\", \"B\", np.nan], see\u001b[0m\u001b[0;34m\u001b[0m\u001b[0;34m\u001b[0m\u001b[0;34m\u001b[0m\u001b[0m\n\u001b[1;32m    113\u001b[0m                     \u001b[0;31m#  test_loc_getitem_list_of_labels_categoricalindex_with_na\u001b[0m\u001b[0;34m\u001b[0m\u001b[0;34m\u001b[0m\u001b[0;34m\u001b[0m\u001b[0m\n\u001b[0;32m--> 114\u001b[0;31m                     \u001b[0;32mraise\u001b[0m \u001b[0mValueError\u001b[0m\u001b[0;34m(\u001b[0m\u001b[0mna_msg\u001b[0m\u001b[0;34m)\u001b[0m\u001b[0;34m\u001b[0m\u001b[0;34m\u001b[0m\u001b[0m\n\u001b[0m\u001b[1;32m    115\u001b[0m                 \u001b[0;32mreturn\u001b[0m \u001b[0;32mFalse\u001b[0m\u001b[0;34m\u001b[0m\u001b[0;34m\u001b[0m\u001b[0m\n\u001b[1;32m    116\u001b[0m             \u001b[0;32mreturn\u001b[0m \u001b[0;32mTrue\u001b[0m\u001b[0;34m\u001b[0m\u001b[0;34m\u001b[0m\u001b[0m\n",
      "\u001b[0;31mValueError\u001b[0m: Cannot mask with non-boolean array containing NA / NaN values"
     ]
    }
   ],
   "source": [
    "\n",
    "outlet_orders = order_data_df.loc[order_data_df['Product Details'].str.contains(\"OUTLET\", case=False)]\n",
    "outlet_orders.head(207)"
   ]
  },
  {
   "cell_type": "code",
   "execution_count": null,
   "id": "b17a5591",
   "metadata": {},
   "outputs": [],
   "source": [
    "pd.set_option(\"display.max_colwidth\", None)\n"
   ]
  },
  {
   "cell_type": "code",
   "execution_count": 7,
   "id": "1201291b",
   "metadata": {},
   "outputs": [
    {
     "ename": "NameError",
     "evalue": "name 'outlet_orders' is not defined",
     "output_type": "error",
     "traceback": [
      "\u001b[0;31m---------------------------------------------------------------------------\u001b[0m",
      "\u001b[0;31mNameError\u001b[0m                                 Traceback (most recent call last)",
      "\u001b[0;32m<ipython-input-7-3bb407523be9>\u001b[0m in \u001b[0;36m<module>\u001b[0;34m\u001b[0m\n\u001b[0;32m----> 1\u001b[0;31m \u001b[0moutlet_orders\u001b[0m\u001b[0;34m\u001b[0m\u001b[0;34m\u001b[0m\u001b[0m\n\u001b[0m",
      "\u001b[0;31mNameError\u001b[0m: name 'outlet_orders' is not defined"
     ]
    }
   ],
   "source": [
    "outlet_orders"
   ]
  },
  {
   "cell_type": "code",
   "execution_count": null,
   "id": "2aca24db",
   "metadata": {},
   "outputs": [],
   "source": [
    "pd.set_option('display.max_rows', None)"
   ]
  },
  {
   "cell_type": "code",
   "execution_count": null,
   "id": "96273d98",
   "metadata": {},
   "outputs": [],
   "source": [
    "outlet_orders"
   ]
  },
  {
   "cell_type": "code",
   "execution_count": null,
   "id": "4012a5da",
   "metadata": {},
   "outputs": [],
   "source": [
    "outlet_orders.dtypes\n",
    "\n"
   ]
  },
  {
   "cell_type": "code",
   "execution_count": null,
   "id": "d9a75ec8",
   "metadata": {},
   "outputs": [],
   "source": [
    "outlet_orders['Order Date'] = pd.to_datetime(outlet_orders['Order Date'])"
   ]
  },
  {
   "cell_type": "code",
   "execution_count": null,
   "id": "f577fbcb",
   "metadata": {},
   "outputs": [],
   "source": [
    "outlet_orders[\"Product Details\"]"
   ]
  },
  {
   "cell_type": "code",
   "execution_count": null,
   "id": "56476ee0",
   "metadata": {},
   "outputs": [],
   "source": [
    "outlet_orders_prev_feb_21 = outlet_orders.loc[outlet_orders['Order Date'] < '2021-02-21']"
   ]
  },
  {
   "cell_type": "code",
   "execution_count": null,
   "id": "e006598d",
   "metadata": {},
   "outputs": [],
   "source": [
    "outlet_orders_prev_feb_21.count()"
   ]
  },
  {
   "cell_type": "code",
   "execution_count": null,
   "id": "8cc5a2f7",
   "metadata": {},
   "outputs": [],
   "source": [
    "outlet_orders_after_feb_21 = outlet_orders.loc[outlet_orders['Order Date'] > '2021-02-21']\n",
    "outlet_orders_after_feb_21"
   ]
  },
  {
   "cell_type": "code",
   "execution_count": null,
   "id": "3a6554ae",
   "metadata": {},
   "outputs": [],
   "source": [
    "outlet_orders['Order Total'] = outlet_orders['Order Total'].str.replace(',', '')\n",
    "outlet_orders['Order Total'] = outlet_orders['Order Total'].str.replace('$', '')\n",
    "outlet_orders['Order Total'] = pd.to_numeric(outlet_orders['Order Total'])\n"
   ]
  },
  {
   "cell_type": "code",
   "execution_count": null,
   "id": "f26cb538",
   "metadata": {},
   "outputs": [],
   "source": [
    "\n",
    "\n",
    "total_orders = outlet_orders.groupby([\"Order Date\"])[\"Order Total\"].sum()\n",
    "Order_ID = outlet_orders[\"Order ID\"].count()\n",
    "\n",
    "\n",
    "\n",
    "orders_plot_df = pd.DataFrame({\n",
    "    \"Total Orders\": total_orders\n",
    "    })\n",
    "\n",
    "orders_plot_df"
   ]
  },
  {
   "cell_type": "code",
   "execution_count": null,
   "id": "eb4d8a53",
   "metadata": {},
   "outputs": [],
   "source": [
    "orders_plot_df = orders_plot_df.reset_index()"
   ]
  },
  {
   "cell_type": "code",
   "execution_count": null,
   "id": "5a5aa6b2",
   "metadata": {},
   "outputs": [],
   "source": [
    "# 4. Create a pivot table with the 'date' as the index, the columns ='type', and values='fare' \n",
    "# to get the total fares for each type of city by the date. \n",
    "orders_pivot = orders_plot_df.pivot(index=\"Order Date\",columns='Order ID',values=\"Total Orders\")\n",
    "orders_pivot.head(10)"
   ]
  },
  {
   "cell_type": "code",
   "execution_count": null,
   "id": "a426c6d0",
   "metadata": {},
   "outputs": [],
   "source": [
    "orders_pivot.index = pd.to_datetime(orders_pivot.index)"
   ]
  },
  {
   "cell_type": "code",
   "execution_count": null,
   "id": "d0a48445",
   "metadata": {},
   "outputs": [],
   "source": [
    "orders_pivot.info()"
   ]
  },
  {
   "cell_type": "code",
   "execution_count": null,
   "id": "eb0d5659",
   "metadata": {},
   "outputs": [],
   "source": [
    "sum_orders_month = orders_pivot.resample(\"M\").sum()\n",
    "sum_orders_month"
   ]
  },
  {
   "cell_type": "code",
   "execution_count": null,
   "id": "2d3c3851",
   "metadata": {},
   "outputs": [],
   "source": []
  },
  {
   "cell_type": "code",
   "execution_count": null,
   "id": "8096c2fa",
   "metadata": {},
   "outputs": [],
   "source": []
  },
  {
   "cell_type": "code",
   "execution_count": null,
   "id": "26383cdf",
   "metadata": {},
   "outputs": [],
   "source": []
  },
  {
   "cell_type": "code",
   "execution_count": null,
   "id": "858b8889",
   "metadata": {},
   "outputs": [],
   "source": []
  },
  {
   "cell_type": "code",
   "execution_count": null,
   "id": "93be41c7",
   "metadata": {},
   "outputs": [],
   "source": [
    "outlet_orders_after_feb_21.count()"
   ]
  },
  {
   "cell_type": "code",
   "execution_count": null,
   "id": "8bd31ee8",
   "metadata": {},
   "outputs": [],
   "source": [
    "x_axis = [\"Jan\", \"Feb\", \"Mar\", \"April\", \"May\", \"June\", \"July\", \"Aug\", \"Sept\", \"Oct\", \"Nov\", \"Dec\"]\n",
    "y_axis = "
   ]
  },
  {
   "cell_type": "code",
   "execution_count": null,
   "id": "034fa078",
   "metadata": {},
   "outputs": [],
   "source": [
    "monthly_outlet_orders = sum_orders_month.plot(figsize = (20,6))\n",
    "monthly_outlet_orders.set_title(\"Total Outlet Sales By Month\")\n",
    "#  Add a x- and y-axis label.\n",
    "monthly_outlet_orders.set_xlabel(\"Order Date\")\n",
    "monthly_outlet_orders.set_ylabel(\"Total Orders\")\n",
    "\n",
    "plt.show()\n",
    "plt.tight_layout()\n",
    "\n",
    "# Import the style from Matplotlib.\n",
    "from matplotlib import style\n",
    "# Use the graph style fivethirtyeight.\n",
    "style.use('fivethirtyeight')"
   ]
  },
  {
   "cell_type": "code",
   "execution_count": null,
   "id": "869e297f",
   "metadata": {},
   "outputs": [],
   "source": []
  }
 ],
 "metadata": {
  "kernelspec": {
   "display_name": "PythonData",
   "language": "python",
   "name": "pythondata"
  },
  "language_info": {
   "codemirror_mode": {
    "name": "ipython",
    "version": 3
   },
   "file_extension": ".py",
   "mimetype": "text/x-python",
   "name": "python",
   "nbconvert_exporter": "python",
   "pygments_lexer": "ipython3",
   "version": "3.7.10"
  }
 },
 "nbformat": 4,
 "nbformat_minor": 5
}
